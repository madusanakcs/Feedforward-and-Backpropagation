{
 "cells": [
  {
   "cell_type": "markdown",
   "id": "56157fb7-11e7-4151-8a9c-e95c4a844924",
   "metadata": {
    "deletable": false,
    "editable": false,
    "slideshow": {
     "slide_type": ""
    },
    "tags": []
   },
   "source": [
    "# <center>Feedforward and Backpropagation</center>\n",
    "## <center>Inclass Project 2 - MA4144</center>\n",
    "\n",
    "This project contains 12 tasks/questions to be completed, some require written answers. Open a markdown cell below the respective question that require written answers and provide (type) your answers. Questions that required written answers are given in blue fonts. Almost all written questions are open ended, they do not have a correct or wrong answer. You are free to give your opinions, but please provide related answers within the context.\n",
    "\n",
    "After finishing project run the entire notebook once and **save the notebook as a pdf** (File menu -> Save and Export Notebook As -> PDF). You are **required to upload this PDF on moodle and also the ipynb notebook file as well**.\n",
    "\n",
    "***"
   ]
  },
  {
   "attachments": {},
   "cell_type": "markdown",
   "id": "37c45f68-8516-4bd3-80b3-fa38c9fc01bf",
   "metadata": {
    "deletable": false,
    "editable": false
   },
   "source": [
    "## Outline of the project\n",
    "\n",
    "The aim of the project is to build a Multi Layer perceptron (MLP) model from scratch for binary classification. That is given an input $x$ output the associated class label $0$ or $1$.\n",
    "\n",
    "In particular, we will classify images of handwritten digits ($0, 1, 2, \\cdots, 9$). For example, given a set of handwritten digit images that only contain two digits (Eg: $1$ and $5$) the model will classify the images based on the written digit.\n",
    "\n",
    "For this we will use the MNIST dataset (collection of $28 \\times 28$ images of handwritten digits) - you can find additional information about MNIST [here](https://en.wikipedia.org/wiki/MNIST_database).\n",
    "\n",
    "<img src=\"https://upload.wikimedia.org/wikipedia/commons/f/f7/MnistExamplesModified.png\" width=\"250\">\n",
    "\n",
    "***\n"
   ]
  },
  {
   "cell_type": "markdown",
   "id": "ba8a0988-42a0-4e8f-abf5-2bc3ddf18304",
   "metadata": {
    "deletable": false,
    "editable": false
   },
   "source": [
    "Use the below cell to use any include any imports"
   ]
  },
  {
   "cell_type": "code",
   "execution_count": 1,
   "id": "aac8649a-c1fe-4236-8ebd-ce3faa43ee3b",
   "metadata": {},
   "outputs": [],
   "source": [
    "import numpy as np\n",
    "import matplotlib.pyplot as plt\n",
    "from sklearn.metrics import accuracy_score"
   ]
  },
  {
   "cell_type": "markdown",
   "id": "e64c6025-f0e5-440e-ab25-fb22393f186c",
   "metadata": {
    "deletable": false,
    "editable": false
   },
   "source": [
    "## Section 1: Preparing the data"
   ]
  },
  {
   "cell_type": "code",
   "execution_count": 2,
   "id": "41a0c01b-d4ce-47c6-ad39-80ea85a59543",
   "metadata": {},
   "outputs": [
    {
     "name": "stdout",
     "output_type": "stream",
     "text": [
      "(60000, 28, 28)\n",
      "(60000,)\n"
     ]
    }
   ],
   "source": [
    "#Load the dataset as training and testing, then print out the shapes of the data matrices.\n",
    "#The training data will be provided to you.\n",
    "\n",
    "data = np.load('train_mnist.npz')\n",
    "train_X = data['x']\n",
    "train_y = data['y']\n",
    "print(train_X.shape)\n",
    "print(train_y.shape)"
   ]
  },
  {
   "cell_type": "markdown",
   "id": "1135bf15-9a80-4d14-8fb4-e30c9e53a4cf",
   "metadata": {
    "deletable": false,
    "editable": false
   },
   "source": [
    "**Q1.** In the following cell write code to display $5$ random images in train_X and it's corresponding label in train_y. Each time it is run, you should get a different set of images. The imshow function in the matplotlib library could be useful. Display them as [grayscale images](https://en.wikipedia.org/wiki/Grayscale)."
   ]
  },
  {
   "cell_type": "code",
   "execution_count": 3,
   "id": "dad09af0-90d7-4590-922e-d114755455a4",
   "metadata": {},
   "outputs": [
    {
     "data": {
      "image/png": "[encoded data removed]",
      "text/plain": [
       "<Figure size 1000x500 with 5 Axes>"
      ]
     },
     "metadata": {},
     "output_type": "display_data"
    }
   ],
   "source": [
    "#TODO Code to display 5 random handritten images from train_X and corresponting labels from train_y\n",
    "# Select 5 random indices\n",
    "random_indices = np.random.choice(train_X.shape[0], 5, replace=False)\n",
    "\n",
    "# Plot the images\n",
    "plt.figure(figsize=(10, 5))\n",
    "for i, idx in enumerate(random_indices):\n",
    "    plt.subplot(1, 5, i + 1)\n",
    "    plt.imshow(train_X[idx], cmap='gray')  # Display as grayscale\n",
    "    plt.title(f\"Label: {train_y[idx]}\")\n",
    "    plt.axis('off')\n",
    "\n",
    "plt.show()\n"
   ]
  },
  {
   "cell_type": "markdown",
   "id": "580fd94a-370c-468b-ba0f-01c2506d4810",
   "metadata": {
    "deletable": false,
    "editable": false
   },
   "source": [
    "**Q2.** Given two digits $d_1$ and $d_2$, both between $0$ and $9$, in the following cell fill in the function body to extract all the samples corresponding to $d_1$ or $d_2$ only, from the dataset $X$ and labels $y$. You can use the labels $y$ to filter the dataset. Assume that the label for the $i$th image $X[i]$ in $X$ is given by $y[i]$. The function should return the extracted samples $X_{extracted}$ and corresponding labels $y_{extracted}$. Avoid using for loops as much as possible, infact you do not need any for loops. numpy.where function should be useful."
   ]
  },
  {
   "cell_type": "code",
   "execution_count": 4,
   "id": "8cd468f8-f28e-405d-aa0a-ac97470615f2",
   "metadata": {},
   "outputs": [],
   "source": [
    "def extract_digits(X, y, d1, d2):\n",
    "    assert d1 in range(0, 10), \"d1 should be a number between 0 and 9 inclusive\"\n",
    "    assert d2 in range(0, 10), \"d2 should be a number between 0 and 9 inclusive\"\n",
    "    \n",
    "    # Extract indices where y is either d1 or d2\n",
    "    indices = np.where((y == d1) | (y == d2))\n",
    "    \n",
    "    # Extract corresponding samples and labels\n",
    "    X_extracted = X[indices]\n",
    "    y_extracted = y[indices]\n",
    "    \n",
    "    return (X_extracted, y_extracted)\n",
    "\n"
   ]
  },
  {
   "attachments": {},
   "cell_type": "markdown",
   "id": "29123736-f5a7-4981-afd8-cdb69bae3f7d",
   "metadata": {
    "deletable": false,
    "editable": false
   },
   "source": [
    "**Q3.** Both the training dataset is a 3 dimensional numpy array, each image occupies 2 dimensions. For convenience of processing data we usually comvert each $28 \\times 28$ image matrix to a vector with $784$ entries. We call this process **vectorize images**.\n",
    "\n",
    "Once we vectorize the images, the vectorized data set would be structured as follows: $i$th row will correspond to a single image and $j$th column will correspond to the $j$th pixel value of each vectorized image. However going along with the convention we discussed in the lecture, the input to the MLP model will require that the columns correspond to individual images. Hence we also require a transpose of the vectorized results.\n",
    "\n",
    "The pixel values in the images will range from $0$ to $255$. Normalize the pixel values between $0$ and $1$, by dividing each pixel value of each image by the maximum pixel value of that image. Simply divide each column of the resulting matrix above by the max of each column. \n",
    "\n",
    "<center><img src=\"https://encrypted-tbn0.gstatic.com/images?q=tbn:ANd9GcTdN_8m9FEqjqAB07obTmB6gNc7S2rSoGBYaA&s\"></center>\n",
    "\n",
    "Given a dataset $X$ of size $N \\times 28 \\times 28$, in the following cell fill in the function to do the following in order;\n",
    "1. Vectorize the dataset resulting in dataset of size $N \\times 784$.\n",
    "2. Transpose the vectorized result.\n",
    "3. Normalize the pixel values of each image.\n",
    "4. Finally return the vectorized, transposed and normalized dataset $X_{transformed}$.\n",
    "\n",
    "Again, avoid for loops, functions such as numpy.reshape, numpy.max etc should be useful."
   ]
  },
  {
   "cell_type": "code",
   "execution_count": 5,
   "id": "eb50027a-5a36-4279-9972-a2bf449bef3d",
   "metadata": {},
   "outputs": [],
   "source": [
    "def vectorize_images(X): \n",
    "    # Vectorize the dataset (reshape to N x 784)\n",
    "    X_vectorized = X.reshape(X.shape[0], -1)\n",
    "    \n",
    "    # Transpose the result to 784 x N\n",
    "    X_vectorized = X_vectorized.T\n",
    "    \n",
    "    # Normalize pixel values (divide each column by its max value)\n",
    "    X_vectorized = X_vectorized / np.max(X_vectorized, axis=0, keepdims=True)\n",
    "    \n",
    "    return X_vectorized\n",
    "\n",
    "\n"
   ]
  },
  {
   "cell_type": "markdown",
   "id": "fbc428f8-0eec-4eb2-9df2-53cd924c9c9d",
   "metadata": {
    "deletable": false,
    "editable": false
   },
   "source": [
    "**Q4.** In the following cell write code to;\n",
    "\n",
    "1. Extract images of the digits $d_1 = 1$ and $d_2 = 5$ with their corresponding labels for the training set (train_X, train_y).\n",
    "2. Then vectorize the data, tranpose the result and normlize the images.\n",
    "3. Store the results after the final transformations in numpy arrays train_X_1_5, train_y_1_5.\n",
    "4. Our MLP will output only class labels $0$ and $1$ (not $1$ and $5$), so create numpy arrays to store the class labels as follows:\n",
    "   $d_1 = 1$ -> class label = 0 and $d_2 = 5$ -> class label = 1. Store them in an array named train_y_1_5.\n",
    "\n",
    "Use the above functions you implemented above to complete this task. In addtion, numpy.where could be useful. Avoid for loops as much as possible."
   ]
  },
  {
   "cell_type": "code",
   "execution_count": 6,
   "id": "2f1eea24-60a5-48ce-829a-67d61645078d",
   "metadata": {},
   "outputs": [],
   "source": [
    "#TODO\n",
    "#Extract and organize the training data as described above.\n",
    "#Here you will be using the functions you implemented above appropriately\n",
    "\n",
    "\n",
    "# Extract images of digits 1 and 5\n",
    "train_X_1_5, train_y_1_5 = extract_digits(train_X, train_y, 1, 5)\n",
    "\n",
    "# Vectorize, transpose, and normalize the images\n",
    "train_X_1_5 = vectorize_images(train_X_1_5)\n",
    "\n",
    "# Convert labels: 1 -> 0, 5 -> 1\n",
    "train_y_1_5 = np.where(train_y_1_5 == 1, 0, 1)\n"
   ]
  },
  {
   "cell_type": "markdown",
   "id": "8d99382b-43b7-4375-8825-4b7d267b6dac",
   "metadata": {
    "deletable": false,
    "editable": false
   },
   "source": [
    "## Section 2: Implementing MLP from scratch with training algorithms."
   ]
  },
  {
   "cell_type": "markdown",
   "id": "5864b18e-cf2e-4da6-a3df-20b8bd84633f",
   "metadata": {
    "deletable": false,
    "editable": false
   },
   "source": [
    "Now we will implement code to build a customizable MLP model. The hidden layers will have the **Relu activation function** and the final output layer will have **Sigmoid activation function**."
   ]
  },
  {
   "cell_type": "markdown",
   "id": "3247c43d-7e37-4e72-9232-5e01898c39a8",
   "metadata": {
    "deletable": false,
    "editable": false,
    "slideshow": {
     "slide_type": ""
    },
    "tags": []
   },
   "source": [
    "**Q5.** Recall the following about the activation functions:\n",
    "1. Sigmoid activation: $y = \\sigma(z) = \\frac{1}{1 + e^{-z}}$.\n",
    "2. Derivative of Sigmoid: $y' = \\sigma'(z) = \\sigma(z) (1 - \\sigma(z)) = y(1-y)$\n",
    "3. ReLu activation: $y = ReLu(z) = max(0, z)$\n",
    "4. Derivative of ReLu: $y' = ReLu'(z) = \\begin{cases} 0 \\; \\textrm{if } z < 0 \\\\ 1 \\; \\textrm{otherwise} \\end{cases} = \\begin{cases} 0 \\; \\textrm{if } y = 0 \\\\ 1 \\; \\textrm{otherwise} \\end{cases}$\n",
    "\n",
    "In the following cell implement the functions to compute activation functions Sigmoid and ReLu given $z$ and derivatives of the Sigmoid and ReLu activation functions given $y$. Note that, in the implementation, the derivative functions should actually accept $y$ as the input not $z$.\n",
    "\n",
    "In practice the input will not be just single numbers, but matrices. So functions or derivatives should be applied elementwise on matrices. Again avoid for loops, use the power of numpy arrays - search for numpy's capability of doing elementwise computations.\n",
    "\n",
    "Important: When implementing the sigmoid function make sure you handle overflows due to $e^{-z}$ being too large. To avoid you can choose to set the sigmoid value to 'the certain appropriate value' if $z$ is less than a certain good enough negative threshold. If you do not handle overflows, the entire result will be useless since the MLP will just output Nan (not a number) for every input at the end."
   ]
  },
  {
   "cell_type": "code",
   "execution_count": 7,
   "id": "ac42dde5-2b7d-4fc2-a5bc-4d396822e995",
   "metadata": {
    "nbgrader": {
     "grade": false,
     "grade_id": "cell-26cf7a0bbe0f6dd9",
     "locked": false,
     "schema_version": 3,
     "solution": true,
     "task": false
    }
   },
   "outputs": [],
   "source": [
    "\n",
    "\n",
    "def sigmoid(Z):\n",
    "    Z = np.clip(Z, -500, 500)  # Prevent overflow issues\n",
    "    sigma = 1 / (1 + np.exp(-Z))\n",
    "    return sigma\n",
    "\n",
    "def deriv_sigmoid(Y):\n",
    "    sigma_prime = Y * (1 - Y)\n",
    "    return sigma_prime\n",
    "\n",
    "def ReLu(Z):\n",
    "    relu = np.maximum(0, Z)\n",
    "    return relu\n",
    "\n",
    "def deriv_ReLu(Y):\n",
    "    relu_prime = (Y > 0).astype(float)\n",
    "    return relu_prime\n"
   ]
  },
  {
   "cell_type": "markdown",
   "id": "88ca012e-5c82-4689-8170-28f6110cc9b5",
   "metadata": {
    "deletable": false,
    "editable": false
   },
   "source": [
    "**Q6.** The following piece of code defines a simple MLP architecture as a Python class and subsequent initialization of a MLP model. <font color='blue'>Certain lines of code contains commented line numbers. Write a short sentence for each such line explaining its purpose. Feel free to refer to the lecture notes or any resources to answers these question. In addition, explain what the Y, Z, W variables refer to and their purpose</font>"
   ]
  },
  {
   "cell_type": "code",
   "execution_count": 8,
   "id": "7985eb85-6a89-4d01-b6cf-d58cb8b4d23f",
   "metadata": {},
   "outputs": [],
   "source": [
    "class NNet:\n",
    "    def __init__(self, input_size = 784, output_size = 1, batch_size = 1000, hidden_layers = [500, 250, 50]):\n",
    "        self.Y = []\n",
    "        self.Z = []\n",
    "        self.W = []\n",
    "        self.input_size = input_size\n",
    "        self.output_size = output_size\n",
    "        self.batch_size = batch_size\n",
    "        self.hidden_layers = hidden_layers\n",
    "\n",
    "        layers = [input_size] + hidden_layers + [output_size]\n",
    "        L = len(hidden_layers) + 1\n",
    "    \n",
    "        for i in range(1, L + 1):\n",
    "            self.Y.append(np.zeros((layers[i], batch_size)))                        #line1\n",
    "            self.Z.append(np.zeros((layers[i], batch_size)))                        #Line2\n",
    "            self.W.append(2*(np.random.rand(layers[i], layers[i-1] + 1) - 0.5))     #Line3"
   ]
  },
  {
   "cell_type": "markdown",
   "id": "7854a0e4-9b83-4f52-8b59-3e64af141209",
   "metadata": {},
   "source": [
    "**Answers**\n",
    "\n",
    "(i) **What do the Y, Z, and W variables refer to and their purpose?**  \n",
    "- **Y (Activations):** Stores the outputs of each layer after applying the activation function. Used for forward propagation.  \n",
    "- **Z (Pre-activations):** Stores the raw computed values before applying the activation function. Helps in backpropagation.  \n",
    "- **W (Weights):** Stores the weight matrices for each layer, including biases. Updated during training to optimize the model.  \n",
    "\n",
    "(ii) **Line 1: Explanation**  \n",
    "This initializes an empty activation matrix `Y[i]` for the `i`-th layer with dimensions `(number of neurons in layer i, batch size)`. It stores the activated outputs of neurons during forward propagation.  \n",
    "\n",
    "(iii) **Line 2: Explanation**  \n",
    "This initializes an empty pre-activation matrix `Z[i]` for the `i`-th layer with dimensions `(number of neurons in layer i, batch size)`. It holds the computed values before activation is applied.  \n",
    "\n",
    "(iv) **Line 3: Explanation**  \n",
    "This initializes a weight matrix `W[i]` for the `i`-th layer with dimensions `(number of neurons in layer i, number of neurons in previous layer + 1)`. The `+1` accounts for the bias term. The weights are randomly initialized in the range `[-1, 1]` to ensure proper weight distribution at the start of training.  \n"
   ]
  },
  {
   "cell_type": "markdown",
   "id": "7ee71406-c0f7-4114-9d9c-bf25fe6d208a",
   "metadata": {
    "deletable": false,
    "editable": false
   },
   "source": [
    "**Q7.** Now we will implement the feedforward algorithm. Recall from the lectures that for each layer $l$ there is input $Y^{(l-1)}$ from the previous layer if $l > 1$ and input data $X$ if $l = 1$. Then we compute $Z^{(l)}$ using the weight matrix $W^{(l)}$ as follows from matrix multiplication:\n",
    "\n",
    "$Z^{(l)} = W^{(l)} Y^{(l-1)}$\n",
    "\n",
    "Make sure that during multiplication you add an additional row of one's to $Y^{(l-1)}$ to accommodate the bias term (concatenate the row of ones as the last row to be consistent with the grader). However, the rows of ones should not permanently remain on $Y^{(l-1)}$. <font color='blue'>Explain what the bias term is and how adding a row of one's help with the bias terms.</font> The weight matrices are initialised to afford this extra bias term, so no change to either $Z^{(l)}$ or $W^{(l)}$ is needed.\n",
    "\n",
    "Next compute $Y^{(l)}$, the output of layer $l$ by activation through sigmoid.\n",
    "\n",
    "$Y^{(l)} = \\sigma(Z^{(l)})$\n",
    "\n",
    "The implemented feedforward algorithm should take in a NNet model and an input matrix $X$ and output the modified MLP model - the $Y$'s and $Z$'s computed should be stored in the model for the backpropagation algorithm.\n",
    "\n",
    "As usual, avoid for loops as much as possible, use the power of numpy. However, you may use a for loop to iterate through the layers of the model."
   ]
  },
  {
   "cell_type": "code",
   "execution_count": 9,
   "id": "c41a778a-0d06-4295-ac80-3ea6bfbad9f0",
   "metadata": {},
   "outputs": [],
   "source": [
    "def feedforward(model, X):\n",
    "    Y_prev = X\n",
    "    for l in range(len(model.W)):\n",
    "        Y_prev_with_bias = np.vstack((Y_prev, np.ones((1, Y_prev.shape[1]))))\n",
    "        model.Z[l] = model.W[l] @ Y_prev_with_bias\n",
    "        if l == len(model.W)-1:\n",
    "            model.Y[l] = sigmoid(model.Z[l])\n",
    "        else:\n",
    "            model.Y[l] = ReLu(model.Z[l])\n",
    "        Y_prev = model.Y[l]\n",
    "    return model"
   ]
  },
  {
   "cell_type": "markdown",
   "id": "cbeea889-4e78-4bfc-b126-6d5d11ea571e",
   "metadata": {
    "deletable": false,
    "editable": false
   },
   "source": [
    "**Answer**  \n",
    "\n",
    "The **bias term** is a constant added to the weighted sum of inputs in a neural network. It helps the model learn better by allowing activation functions to shift, enabling neurons to activate even when the weighted sum of inputs is zero. This makes the network more flexible and improves learning efficiency.  \n",
    "\n",
    "**How adding a row of ones helps with bias terms:**  \n",
    "Instead of explicitly handling bias as a separate parameter, we include it as an additional weight by appending a row of ones to the input matrix. This allows the bias term to be naturally incorporated into the matrix multiplication with weights, simplifying calculations and ensuring consistent implementation across layers.\n"
   ]
  },
  {
   "cell_type": "markdown",
   "id": "f5b4c037-df9a-49eb-9519-51b86555b33c",
   "metadata": {
    "deletable": false,
    "editable": false
   },
   "source": [
    "**Q8.** Now we will implement the backpropagation algorithm. The cost function $C$ at the end is given by the square loss.\n",
    "\n",
    "$C = \\frac{1}{2} ||Y^{(L)} - Y||^{2}$, where $Y^{(L)}$ is the final output vector of the feedforward algorithm and $Y$ is the actual label vector associated with the input $X$.\n",
    "\n",
    "At each layer $l = 1, 2, \\cdots, L$ we compute the following (note that the gradients are matrices with the same dimensions as the variable to which we derivating with respect to):\n",
    "\n",
    "1. Gradient of $C$ with respect to $Z^{(l)}$ as <br> $\\frac{\\partial C}{\\partial Z^{(l)}} = deriv(A^{(l)}(Z^{(l)})) \\odot \\frac{\\partial C}{\\partial Y^{(L)}} $, <br> where $A^{(l)}$ is the activation function of the $l$th layer, and we use the derivative of that here. The $\\odot$ refers to the elementwise multiplication.\n",
    "\n",
    "2. Gradient of $C$ with respect to $W^{(l)}$ as <br> $\\frac{\\partial C}{\\partial W^{(l)}} = \\frac{\\partial C}{\\partial Z^{(l)}} (Y^{(l-1)})^{T}$ <br> this is entirely matrix multiplication.\n",
    "\n",
    "3. Gradient of $C$ with respect to $Y^{(l-1)}$ as <br> $\\frac{\\partial C}{\\partial Y^{(l-1)}} = (W^{(l)})^{T} \\frac{\\partial C}{\\partial Z^{(l)}}$ <br> this is also entirely matrix multiplication.\n",
    "\n",
    "4. Update weights by: <br> $W^{(l)} \\leftarrow W^{(l)} - \\eta \\frac{\\partial C}{\\partial W^{(l)}}$, <br> where $\\eta > 0$ is the learning rate.\n",
    "\n",
    "The loss derivative (the gradient of $C$ with respect to $Y^{(L)}$) at the last layer is given by:\n",
    "\n",
    "$\\frac{\\partial C}{\\partial Y^{(L)}} = Y^{(L)} - Y$\n",
    "\n",
    "By convention we consider $Y^{(0)} = X$, the input data.\n",
    "\n",
    "Based on the backpropagation algorithm implement the backpropagation method in the following cell. Remember to temporarily add a row of ones to $Y^{(l-1)}$ (as the last row to be consistent with the grader) when computing $\\frac{\\partial C}{\\partial W^{(l)}}$ as we discussed back in the feedforward algorithm. Make sure you avoid for loops as much as possible.\n",
    "\n",
    "The function takes in a NNet model, input data $X$ and the corresponding class labels $Y$. learning rate can be set as desired."
   ]
  },
  {
   "cell_type": "code",
   "execution_count": 10,
   "id": "d958af3f-5a72-462d-844f-aba8ce5b03c8",
   "metadata": {},
   "outputs": [],
   "source": [
    "def backpropagation(model, X, Y, eta=0.01):\n",
    "    # Output layer delta\n",
    "    delta = (model.Y[-1] - Y) * deriv_sigmoid(model.Y[-1])\n",
    "    for l in reversed(range(len(model.W))):\n",
    "        if l == 0:\n",
    "            Y_prev = X\n",
    "        else:\n",
    "            Y_prev = model.Y[l-1]\n",
    "        Y_prev_with_bias = np.vstack((Y_prev, np.ones((1, Y_prev.shape[1]))))\n",
    "        dW = delta @ Y_prev_with_bias.T\n",
    "        model.W[l] -= eta * dW\n",
    "        if l > 0:\n",
    "            delta_prev = model.W[l].T @ delta\n",
    "            delta_prev = delta_prev[:-1, :]  # Remove bias term\n",
    "            delta = delta_prev * deriv_ReLu(model.Y[l-1])\n",
    "    return model"
   ]
  },
  {
   "cell_type": "markdown",
   "id": "a2fad553-1ba4-4bee-b04b-249b9e04c6a9",
   "metadata": {
    "deletable": false,
    "editable": false
   },
   "source": [
    "**Q9.** Now implement the training algorithm.\n",
    "\n",
    "The training method takes in training data $X$, actual label $Y$, number of epochs, batch_size, learning rate $\\eta > 0$. The training will happen in epochs. For each epoch, permute the data columns of both $X$ and $Y$, then divide both $X$ and $Y$ into mini batches each with the given batch size. Then run the feedforward and backpropagation for each such batch iteratively.\n",
    "\n",
    "At the end of each iteration, keep trach of the cost $C$ and the $l_2$-norm of change in each weight matrix $W^{(l)}$.\n",
    "\n",
    "At the end of the last epoch, plot the variation cost $C$ and change in weight matrices. Then return the trained model.\n",
    "\n"
   ]
  },
  {
   "cell_type": "code",
   "execution_count": 11,
   "id": "fa4070ea-4a6b-4cba-b882-fa2ea79a9247",
   "metadata": {},
   "outputs": [],
   "source": [
    "def train_NNet(X, Y, epochs=200, batch_size=1000, eta=0.001):\n",
    "    input_size, N = X.shape\n",
    "    model = NNet(input_size=input_size, batch_size=batch_size)\n",
    "    costs = []\n",
    "    for epoch in range(epochs):\n",
    "        perm = np.random.permutation(N)\n",
    "        X_shuffled = X[:, perm]  # Shuffle columns (samples) of X\n",
    "        Y_shuffled = Y[:, perm]  # Shuffle columns (samples) of Y (corrected line)\n",
    "        for i in range(0, N, batch_size):\n",
    "            X_batch = X_shuffled[:, i:i+batch_size]\n",
    "            Y_batch = Y_shuffled[:, i:i+batch_size]\n",
    "            model = feedforward(model, X_batch)\n",
    "            C = 0.5 * np.mean((model.Y[-1] - Y_batch)**2)\n",
    "            costs.append(C)\n",
    "            model = backpropagation(model, X_batch, Y_batch, eta)\n",
    "        print(f\"Epoch {epoch+1}, Loss: {C}\")\n",
    "    plt.plot(costs)\n",
    "    plt.title('Training Loss')\n",
    "    plt.xlabel('Iteration')\n",
    "    plt.ylabel('Loss')\n",
    "    plt.show()\n",
    "    return model"
   ]
  },
  {
   "cell_type": "markdown",
   "id": "2cd20299-a129-4d1d-a406-84e1a4dba621",
   "metadata": {
    "deletable": false,
    "editable": false
   },
   "source": [
    "## Section 3: Evaluation using test data"
   ]
  },
  {
   "cell_type": "markdown",
   "id": "d954c37c-f1b7-4e87-aedd-cf9e7624f612",
   "metadata": {
    "deletable": false,
    "editable": false
   },
   "source": [
    "**Q10.** Implement the following function predict. Given test images (3 dimensional numpy array that contains $28 \\times 28$ digit images) it will correctly recognize the written digits between d1 and d2. You can assume that test_images will only contain images of digits d1 and d2. Inside predict you would need to preprocess the images using vectorize, predict the correct labels using model and then output the correct lables. Output should be a vector predicted of d1's and d2's, predicted[i] should correspond to the test_image[i]."
   ]
  },
  {
   "cell_type": "code",
   "execution_count": 12,
   "id": "977dcbb8-1b5c-4f49-89f6-9bd90833957b",
   "metadata": {
    "deletable": false
   },
   "outputs": [],
   "source": [
    "def predict(model, test_images, d1, d2):\n",
    "    X_test = vectorize_images(test_images)\n",
    "    model = feedforward(model, X_test)\n",
    "    preds = (model.Y[-1] >= 0.5).astype(int).flatten()\n",
    "    return np.where(preds, d2, d1)"
   ]
  },
  {
   "cell_type": "markdown",
   "id": "ab6f1db0-8f5f-442c-84f1-578c77b99537",
   "metadata": {
    "deletable": false
   },
   "source": [
    "**Q11.** Use the train_NNet function to train a MLP model to classify between images of digits $1$ and $5$. An accuracy $>= 99%$ is achievable. Test with different batch sizes, $\\eta$ values and hidden layers. Find which of those hyperparameters gives the best test accuracy. Name this model, model_1_5. This model will be tested on unseen test data within the grader. So make sure you train the best possible model. The grader will use your own predict function to evaluate the model."
   ]
  },
  {
   "cell_type": "code",
   "execution_count": 21,
   "id": "b0561199-92cc-4344-8509-c8ab798c33ab",
   "metadata": {},
   "outputs": [
    {
     "name": "stdout",
     "output_type": "stream",
     "text": [
      "Epoch 1, Loss: 0.18221358257820267\n",
      "Epoch 2, Loss: 0.12576692927236424\n",
      "Epoch 3, Loss: 0.1073282962670983\n",
      "Epoch 4, Loss: 0.0674832057557638\n",
      "Epoch 5, Loss: 0.0766870829748149\n",
      "Epoch 6, Loss: 0.05521332383100274\n",
      "Epoch 7, Loss: 0.05214723925401854\n",
      "Epoch 8, Loss: 0.055213762262083826\n",
      "Epoch 9, Loss: 0.03680981381977869\n",
      "Epoch 10, Loss: 0.030044842775360438\n",
      "Epoch 11, Loss: 0.03846676221313957\n",
      "Epoch 12, Loss: 0.030674846625537145\n",
      "Epoch 13, Loss: 0.01786007363173623\n",
      "Epoch 14, Loss: 0.02760736286807759\n",
      "Epoch 15, Loss: 0.021468421031844046\n",
      "Epoch 16, Loss: 0.036809815944841576\n",
      "Epoch 17, Loss: 0.02453987703664963\n",
      "Epoch 18, Loss: 0.01840503628910026\n",
      "Epoch 19, Loss: 0.012269938650306749\n",
      "Epoch 20, Loss: 0.015510538547767972\n",
      "Epoch 21, Loss: 0.009202453987730062\n",
      "Epoch 22, Loss: 0.015337423315627525\n",
      "Epoch 23, Loss: 0.009202453987730062\n",
      "Epoch 24, Loss: 0.003067495188866587\n",
      "Epoch 25, Loss: 0.015338379116686014\n",
      "Epoch 26, Loss: 0.015337423312883436\n",
      "Epoch 27, Loss: 0.024533118988824404\n",
      "Epoch 28, Loss: 0.015337423312883427\n",
      "Epoch 29, Loss: 0.0186240566352394\n",
      "Epoch 30, Loss: 0.006163114151161574\n",
      "Epoch 31, Loss: 0.01533109112363949\n",
      "Epoch 32, Loss: 0.012267010467303111\n",
      "Epoch 33, Loss: 0.006134969325153374\n",
      "Epoch 34, Loss: 0.013644945323486602\n",
      "Epoch 35, Loss: 0.02453987719956586\n",
      "Epoch 36, Loss: 0.018404807254262866\n",
      "Epoch 37, Loss: 0.015337423312883451\n",
      "Epoch 38, Loss: 0.003067484662576687\n",
      "Epoch 39, Loss: 0.012269938650306749\n",
      "Epoch 40, Loss: 0.014289416207090195\n",
      "Epoch 41, Loss: 0.009202452330887304\n",
      "Epoch 42, Loss: 2.187629496054442e-78\n",
      "Epoch 43, Loss: 0.009202453987730062\n",
      "Epoch 44, Loss: 0.015325787936956877\n",
      "Epoch 45, Loss: 0.012269938650320769\n",
      "Epoch 46, Loss: 0.009202453987730062\n",
      "Epoch 47, Loss: 0.012269938650309238\n",
      "Epoch 48, Loss: 0.0061349693247265535\n",
      "Epoch 49, Loss: 0.006134969325153374\n",
      "Epoch 50, Loss: 0.018404907975460124\n",
      "Epoch 51, Loss: 0.015337423312883436\n",
      "Epoch 52, Loss: 0.006134969325153374\n",
      "Epoch 53, Loss: 0.0061349693251533735\n",
      "Epoch 54, Loss: 0.014256768481483814\n",
      "Epoch 55, Loss: 0.006134969325153374\n",
      "Epoch 56, Loss: 0.01226993865043298\n",
      "Epoch 57, Loss: 0.01226993783246092\n",
      "Epoch 58, Loss: 0.012269938650306749\n",
      "Epoch 59, Loss: 0.012269938856619934\n",
      "Epoch 60, Loss: 0.015336297244606174\n",
      "Epoch 61, Loss: 0.012269938650306749\n",
      "Epoch 62, Loss: 0.021472308452019948\n",
      "Epoch 63, Loss: 0.015337423312883436\n",
      "Epoch 64, Loss: 0.018404907975460124\n",
      "Epoch 65, Loss: 0.003067484658642236\n",
      "Epoch 66, Loss: 0.006134969325153374\n",
      "Epoch 67, Loss: 0.012269938650279227\n",
      "Epoch 68, Loss: 0.01840490797540268\n",
      "Epoch 69, Loss: 0.006134969325153367\n",
      "Epoch 70, Loss: 0.0092024539877298\n",
      "Epoch 71, Loss: 0.0030674846625767015\n",
      "Epoch 72, Loss: 0.009202453987730062\n",
      "Epoch 73, Loss: 0.009202453987730137\n",
      "Epoch 74, Loss: 0.009202453987730062\n",
      "Epoch 75, Loss: 0.003067484662576687\n",
      "Epoch 76, Loss: 0.006134969325153374\n",
      "Epoch 77, Loss: 0.003067484662576687\n",
      "Epoch 78, Loss: 1.3421084786467229e-07\n",
      "Epoch 79, Loss: 0.009202453987730062\n",
      "Epoch 80, Loss: 0.012269938650306749\n",
      "Epoch 81, Loss: 0.0061533272901865025\n",
      "Epoch 82, Loss: 0.008997024312812513\n",
      "Epoch 83, Loss: 0.006134969325153374\n",
      "Epoch 84, Loss: 0.006134969325153374\n",
      "Epoch 85, Loss: 0.015337423312883436\n",
      "Epoch 86, Loss: 0.012269938650306749\n",
      "Epoch 87, Loss: 0.015337423312883436\n",
      "Epoch 88, Loss: 0.012269938650306749\n",
      "Epoch 89, Loss: 0.006134969325153374\n",
      "Epoch 90, Loss: 0.003067484662576687\n",
      "Epoch 91, Loss: 1.400062479854702e-155\n",
      "Epoch 92, Loss: 1.0889055123486986e-53\n",
      "Epoch 93, Loss: 0.012269938650306749\n",
      "Epoch 94, Loss: 0.003067484662576687\n",
      "Epoch 95, Loss: 0.009202544192576805\n",
      "Epoch 96, Loss: 0.012269915529932342\n",
      "Epoch 97, Loss: 0.01533742331256926\n",
      "Epoch 98, Loss: 0.012269938650914754\n",
      "Epoch 99, Loss: 0.003067484662576687\n",
      "Epoch 100, Loss: 2.948426418655875e-174\n",
      "Epoch 101, Loss: 0.006134969325153374\n",
      "Epoch 102, Loss: 1.0860542104851553e-106\n",
      "Epoch 103, Loss: 0.003067484662576687\n",
      "Epoch 104, Loss: 0.009202453987730062\n",
      "Epoch 105, Loss: 0.012269938650306749\n",
      "Epoch 106, Loss: 0.012269938650306749\n",
      "Epoch 107, Loss: 9.630302767960936e-27\n",
      "Epoch 108, Loss: 0.015337423312883436\n",
      "Epoch 109, Loss: 0.003067484662576687\n",
      "Epoch 110, Loss: 0.009202453987730062\n",
      "Epoch 111, Loss: 0.006134969325153374\n",
      "Epoch 112, Loss: 0.003067484662576687\n",
      "Epoch 113, Loss: 0.003067484662576687\n",
      "Epoch 114, Loss: 0.003067484662576687\n",
      "Epoch 115, Loss: 0.012269938650306749\n",
      "Epoch 116, Loss: 0.006134969325153374\n",
      "Epoch 117, Loss: 0.015337423312883436\n",
      "Epoch 118, Loss: 0.009202453987730062\n",
      "Epoch 119, Loss: 0.012269938650306749\n",
      "Epoch 120, Loss: 0.006134969325153374\n",
      "Epoch 121, Loss: 0.012269938846137307\n",
      "Epoch 122, Loss: 0.003067484662576342\n",
      "Epoch 123, Loss: 0.0030674846480822624\n",
      "Epoch 124, Loss: 0.009202453987730062\n",
      "Epoch 125, Loss: 0.003067484662576687\n",
      "Epoch 126, Loss: 0.006134969369489219\n",
      "Epoch 127, Loss: 0.015337423312883436\n",
      "Epoch 128, Loss: 0.015337423312883436\n",
      "Epoch 129, Loss: 0.009202453987730062\n",
      "Epoch 130, Loss: 0.009202453987730062\n",
      "Epoch 131, Loss: 0.012269938135517421\n",
      "Epoch 132, Loss: 0.006134969325153374\n",
      "Epoch 133, Loss: 0.003067484655896436\n",
      "Epoch 134, Loss: 0.018404907975460124\n",
      "Epoch 135, Loss: 0.006134969325153374\n",
      "Epoch 136, Loss: 0.003067484662576687\n",
      "Epoch 137, Loss: 0.004063877296226427\n",
      "Epoch 138, Loss: 0.003067484662576687\n",
      "Epoch 139, Loss: 0.009202453987730062\n",
      "Epoch 140, Loss: 0.006134969325154929\n",
      "Epoch 141, Loss: 0.003067484662576687\n",
      "Epoch 142, Loss: 0.006134969325153374\n",
      "Epoch 143, Loss: 0.009202453987730062\n",
      "Epoch 144, Loss: 0.003067484662576687\n",
      "Epoch 145, Loss: 0.015337423312883436\n",
      "Epoch 146, Loss: 0.003067484662576687\n",
      "Epoch 147, Loss: 0.003067545035920758\n",
      "Epoch 148, Loss: 0.003067484662576687\n",
      "Epoch 149, Loss: 0.003067484662576687\n",
      "Epoch 150, Loss: 0.009202453987730062\n",
      "Epoch 151, Loss: 0.0030674846625769526\n",
      "Epoch 152, Loss: 0.012269938619211471\n",
      "Epoch 153, Loss: 0.009202453987730062\n",
      "Epoch 154, Loss: 0.006134971496992325\n",
      "Epoch 155, Loss: 0.018404907975425763\n",
      "Epoch 156, Loss: 0.006134969325153373\n",
      "Epoch 157, Loss: 0.00920245398766898\n",
      "Epoch 158, Loss: 0.003067484662576687\n",
      "Epoch 159, Loss: 0.012269938650306749\n",
      "Epoch 160, Loss: 0.003067486714167648\n",
      "Epoch 161, Loss: 0.009202453987730062\n",
      "Epoch 162, Loss: 0.009202456113809614\n",
      "Epoch 163, Loss: 0.02147239263803681\n",
      "Epoch 164, Loss: 0.003067484662576687\n",
      "Epoch 165, Loss: 0.012269938650306749\n",
      "Epoch 166, Loss: 0.009202453987730062\n",
      "Epoch 167, Loss: 0.003067484662576687\n",
      "Epoch 168, Loss: 2.4198187276718154e-33\n",
      "Epoch 169, Loss: 0.006134969325153374\n",
      "Epoch 170, Loss: 0.006134969325153374\n",
      "Epoch 171, Loss: 0.006134969325153472\n",
      "Epoch 172, Loss: 0.003067484662576687\n",
      "Epoch 173, Loss: 0.018404907975460124\n",
      "Epoch 174, Loss: 7.596494733909463e-67\n",
      "Epoch 175, Loss: 0.009202453987730062\n",
      "Epoch 176, Loss: 0.015337423312883436\n",
      "Epoch 177, Loss: 3.7267491992553093e-122\n",
      "Epoch 178, Loss: 0.003067484662576687\n",
      "Epoch 179, Loss: 0.009202453987730062\n",
      "Epoch 180, Loss: 0.012269938650306749\n",
      "Epoch 181, Loss: 0.006134969325047806\n",
      "Epoch 182, Loss: 0.003067484662576687\n",
      "Epoch 183, Loss: 0.006134969325153374\n",
      "Epoch 184, Loss: 0.003067484662576687\n",
      "Epoch 185, Loss: 0.009202453987730062\n",
      "Epoch 186, Loss: 0.012269938650306749\n",
      "Epoch 187, Loss: 0.006134969325153374\n",
      "Epoch 188, Loss: 1.2555433184491235e-138\n",
      "Epoch 189, Loss: 0.012269938650275663\n",
      "Epoch 190, Loss: 0.006134969325153374\n",
      "Epoch 191, Loss: 0.009202453987730173\n",
      "Epoch 192, Loss: 0.018404907975460124\n",
      "Epoch 193, Loss: 0.003067484662576687\n",
      "Epoch 194, Loss: 0.006134969325153374\n",
      "Epoch 195, Loss: 0.009202453987730062\n",
      "Epoch 196, Loss: 0.003067484662576687\n",
      "Epoch 197, Loss: 0.0184049079754601\n",
      "Epoch 198, Loss: 1.3848288408118096e-78\n",
      "Epoch 199, Loss: 0.006134969325153374\n",
      "Epoch 200, Loss: 0.012269937422356514\n"
     ]
    },
    {
     "data": {
      "image/png": "[encoded data removed]",
      "text/plain": [
       "<Figure size 640x480 with 1 Axes>"
      ]
     },
     "metadata": {},
     "output_type": "display_data"
    }
   ],
   "source": [
    "#TODO\n",
    "\n",
    "\n",
    "\n",
    "model_1_5 = train_NNet(train_X_1_5, train_y_1_5.reshape(1, -1), epochs=200, eta=0.00006)\n",
    "\n",
    "\n"
   ]
  },
  {
   "cell_type": "markdown",
   "id": "de8d0cb5-78d7-486e-98eb-1f162888c79a",
   "metadata": {},
   "source": [
    "**Q12.** Do the same as in Q11 with the digits $7$ and $9$ Name this model, model_7_9. This model will be tested on unseen test data within the grader. So make sure you train the best possible model. The grader will use your own predict function to evaluate the model."
   ]
  },
  {
   "cell_type": "code",
   "execution_count": 17,
   "id": "5f341921-1e67-49d2-95c7-72c9f06486e8",
   "metadata": {},
   "outputs": [
    {
     "name": "stdout",
     "output_type": "stream",
     "text": [
      "Epoch 1, Loss: 0.294266629533929\n",
      "Epoch 2, Loss: 0.25470847947047115\n",
      "Epoch 3, Loss: 0.2476602886202053\n",
      "Epoch 4, Loss: 0.23910444948724133\n",
      "Epoch 5, Loss: 0.2033301967454719\n",
      "Epoch 6, Loss: 0.22663147479946028\n",
      "Epoch 7, Loss: 0.19392308399254132\n",
      "Epoch 8, Loss: 0.2053654471065575\n",
      "Epoch 9, Loss: 0.13276076286331057\n",
      "Epoch 10, Loss: 0.1682024534868628\n",
      "Epoch 11, Loss: 0.15406347483971244\n",
      "Epoch 12, Loss: 0.13319405401819848\n",
      "Epoch 13, Loss: 0.16351832812911138\n",
      "Epoch 14, Loss: 0.10057821960249722\n",
      "Epoch 15, Loss: 0.12849749743831584\n",
      "Epoch 16, Loss: 0.11690912724319895\n",
      "Epoch 17, Loss: 0.12227630558610604\n",
      "Epoch 18, Loss: 0.1165731139219109\n",
      "Epoch 19, Loss: 0.10280475793508305\n",
      "Epoch 20, Loss: 0.11444798694831172\n",
      "Epoch 21, Loss: 0.07277754706393684\n",
      "Epoch 22, Loss: 0.10747592562190435\n",
      "Epoch 23, Loss: 0.08411214476589451\n",
      "Epoch 24, Loss: 0.11295090037576545\n",
      "Epoch 25, Loss: 0.08411214227271588\n",
      "Epoch 26, Loss: 0.07927798380066374\n",
      "Epoch 27, Loss: 0.06774586907300383\n",
      "Epoch 28, Loss: 0.08879216549644549\n",
      "Epoch 29, Loss: 0.07241832453449741\n",
      "Epoch 30, Loss: 0.06775632065775643\n",
      "Epoch 31, Loss: 0.07285895796347666\n",
      "Epoch 32, Loss: 0.06299254199492695\n",
      "Epoch 33, Loss: 0.06761125997460679\n",
      "Epoch 34, Loss: 0.07009290784861609\n",
      "Epoch 35, Loss: 0.056074766355139506\n",
      "Epoch 36, Loss: 0.049065418198151786\n",
      "Epoch 37, Loss: 0.040080379261798596\n",
      "Epoch 38, Loss: 0.06344140348728873\n",
      "Epoch 39, Loss: 0.05361264579036624\n",
      "Epoch 40, Loss: 0.052234467071488114\n",
      "Epoch 41, Loss: 0.05607459824473645\n",
      "Epoch 42, Loss: 0.05553596564860262\n",
      "Epoch 43, Loss: 0.05369543404555663\n",
      "Epoch 44, Loss: 0.044389023357431244\n",
      "Epoch 45, Loss: 0.04205607476739514\n",
      "Epoch 46, Loss: 0.037382858737510356\n",
      "Epoch 47, Loss: 0.05373277021904039\n",
      "Epoch 48, Loss: 0.037383177561371\n",
      "Epoch 49, Loss: 0.05835562052427823\n",
      "Epoch 50, Loss: 0.059630500052716605\n",
      "Epoch 51, Loss: 0.046391404560197705\n",
      "Epoch 52, Loss: 0.05081734756305434\n",
      "Epoch 53, Loss: 0.04974642819371662\n",
      "Epoch 54, Loss: 0.0677569837617627\n",
      "Epoch 55, Loss: 0.04760332727764624\n",
      "Epoch 56, Loss: 0.03271028037383177\n",
      "Epoch 57, Loss: 0.05373830899947067\n",
      "Epoch 58, Loss: 0.0630402173238727\n",
      "Epoch 59, Loss: 0.03973466992262922\n",
      "Epoch 60, Loss: 0.04897033868099664\n",
      "Epoch 61, Loss: 0.048658885950832294\n",
      "Epoch 62, Loss: 0.05138661597326651\n",
      "Epoch 63, Loss: 0.04673880405047805\n",
      "Epoch 64, Loss: 0.055580271806993285\n",
      "Epoch 65, Loss: 0.044392572737748145\n",
      "Epoch 66, Loss: 0.051401869158871634\n",
      "Epoch 67, Loss: 0.039719626168207824\n",
      "Epoch 68, Loss: 0.030397830070340994\n",
      "Epoch 69, Loss: 0.05088339779958537\n",
      "Epoch 70, Loss: 0.03738316447198276\n",
      "Epoch 71, Loss: 0.02804807679449829\n",
      "Epoch 72, Loss: 0.04672260181748962\n",
      "Epoch 73, Loss: 0.04906534383607836\n",
      "Epoch 74, Loss: 0.03971962614493274\n",
      "Epoch 75, Loss: 0.0375596882082857\n",
      "Epoch 76, Loss: 0.04906542060281378\n",
      "Epoch 77, Loss: 0.03504649610655099\n",
      "Epoch 78, Loss: 0.04439252095188239\n",
      "Epoch 79, Loss: 0.06306210191762741\n",
      "Epoch 80, Loss: 0.044392450320319625\n",
      "Epoch 81, Loss: 0.03376549395671678\n",
      "Epoch 82, Loss: 0.04906542000825091\n",
      "Epoch 83, Loss: 0.04411735086825616\n",
      "Epoch 84, Loss: 0.035046728972017105\n",
      "Epoch 85, Loss: 0.04205607476635514\n",
      "Epoch 86, Loss: 0.0350467292932185\n",
      "Epoch 87, Loss: 0.032710279303449226\n",
      "Epoch 88, Loss: 0.0397196261682243\n",
      "Epoch 89, Loss: 0.016415709535163765\n",
      "Epoch 90, Loss: 0.02570093457943925\n",
      "Epoch 91, Loss: 0.037383177572181354\n",
      "Epoch 92, Loss: 0.028026354309364298\n",
      "Epoch 93, Loss: 0.04878170438870135\n",
      "Epoch 94, Loss: 0.044361203805223376\n",
      "Epoch 95, Loss: 0.032680564528683835\n",
      "Epoch 96, Loss: 0.03971962616944748\n",
      "Epoch 97, Loss: 0.030298464131862664\n",
      "Epoch 98, Loss: 0.02570122788008045\n",
      "Epoch 99, Loss: 0.05140187314144812\n",
      "Epoch 100, Loss: 0.030373818376359506\n"
     ]
    },
    {
     "data": {
      "image/png": "[encoded data removed]",
      "text/plain": [
       "<Figure size 640x480 with 1 Axes>"
      ]
     },
     "metadata": {},
     "output_type": "display_data"
    }
   ],
   "source": [
    "#TODO\n",
    "\n",
    "\n",
    "\n",
    "\n",
    "\n",
    "X_7_9, y_7_9 = extract_digits(train_X, train_y, 7, 9)\n",
    "train_X_7_9 = vectorize_images(X_7_9)\n",
    "train_y_7_9 = np.where(y_7_9 == 9, 1, 0)\n",
    "model_7_9 = train_NNet(train_X_7_9, train_y_7_9.reshape(1, -1), epochs=100, eta=0.00005)"
   ]
  },
  {
   "cell_type": "code",
   "execution_count": 22,
   "id": "a6729ac9",
   "metadata": {},
   "outputs": [
    {
     "name": "stdout",
     "output_type": "stream",
     "text": [
      "\n",
      "1 vs 5 Predictions:\n",
      "Predicted: 5, Actual: 5\n",
      "Predicted: 1, Actual: 1\n",
      "Predicted: 1, Actual: 1\n",
      "Predicted: 1, Actual: 1\n",
      "Predicted: 5, Actual: 5\n",
      "Predicted: 1, Actual: 1\n",
      "Predicted: 1, Actual: 1\n",
      "Predicted: 5, Actual: 1\n",
      "Predicted: 5, Actual: 5\n",
      "Predicted: 1, Actual: 1\n",
      "\n",
      "7 vs 9 Predictions:\n",
      "Predicted: 9, Actual: 9\n",
      "Predicted: 7, Actual: 7\n",
      "Predicted: 9, Actual: 9\n",
      "Predicted: 7, Actual: 9\n",
      "Predicted: 7, Actual: 7\n",
      "Predicted: 9, Actual: 9\n",
      "Predicted: 7, Actual: 7\n",
      "Predicted: 7, Actual: 7\n",
      "Predicted: 9, Actual: 9\n",
      "Predicted: 9, Actual: 9\n",
      "\n",
      "1 vs 5 Accuracy: 98.44%\n",
      "7 vs 9 Accuracy: 93.02%\n"
     ]
    }
   ],
   "source": [
    "# Prediction and evaluation code\n",
    "def predict(model, test_images, d1, d2):\n",
    "    X_test = vectorize_images(test_images)\n",
    "    temp_model = NNet(input_size=784, output_size=1, \n",
    "                    batch_size=X_test.shape[1], \n",
    "                    hidden_layers=model.hidden_layers)\n",
    "    temp_model.W = model.W  # Use trained weights\n",
    "    temp_model = feedforward(temp_model, X_test)\n",
    "    preds = (temp_model.Y[-1] >= 0.5).astype(int).flatten()\n",
    "    return np.where(preds, d2, d1)\n",
    "\n",
    "# For 1 vs 5 classification\n",
    "test_images_1_5, test_labels_1_5 = extract_digits(train_X, train_y, 1, 5)\n",
    "pred_1_5 = predict(model_1_5, test_images_1_5, 1, 5)\n",
    "\n",
    "print(\"\\n1 vs 5 Predictions:\")\n",
    "for i in range(10):\n",
    "    print(f\"Predicted: {pred_1_5[i]}, Actual: {test_labels_1_5[i]}\")\n",
    "\n",
    "# For 7 vs 9 classification \n",
    "test_images_7_9, test_labels_7_9 = extract_digits(train_X, train_y, 7, 9)\n",
    "pred_7_9 = predict(model_7_9, test_images_7_9, 7, 9)\n",
    "\n",
    "print(\"\\n7 vs 9 Predictions:\")\n",
    "for i in range(10):\n",
    "    print(f\"Predicted: {pred_7_9[i]}, Actual: {test_labels_7_9[i]}\")\n",
    "\n",
    "# Calculate accuracy\n",
    "def calculate_accuracy(preds, true_labels):\n",
    "    return np.mean(preds == true_labels) * 100\n",
    "\n",
    "acc_1_5 = calculate_accuracy(pred_1_5, test_labels_1_5)\n",
    "acc_7_9 = calculate_accuracy(pred_7_9, test_labels_7_9)\n",
    "\n",
    "print(f\"\\n1 vs 5 Accuracy: {acc_1_5:.2f}%\")\n",
    "print(f\"7 vs 9 Accuracy: {acc_7_9:.2f}%\")"
   ]
  },
  {
   "cell_type": "code",
   "execution_count": null,
   "id": "be67faf6",
   "metadata": {},
   "outputs": [],
   "source": []
  }
 ],
 "metadata": {
  "kernelspec": {
   "display_name": "Python 3 (ipykernel)",
   "language": "python",
   "name": "python3"
  },
  "language_info": {
   "codemirror_mode": {
    "name": "ipython",
    "version": 3
   },
   "file_extension": ".py",
   "mimetype": "text/x-python",
   "name": "python",
   "nbconvert_exporter": "python",
   "pygments_lexer": "ipython3",
   "version": "3.12.6"
  }
 },
 "nbformat": 4,
 "nbformat_minor": 5
}
